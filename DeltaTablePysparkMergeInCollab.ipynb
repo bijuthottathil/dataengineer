{
  "nbformat": 4,
  "nbformat_minor": 0,
  "metadata": {
    "colab": {
      "provenance": [],
      "authorship_tag": "ABX9TyOaDmChfGQcYCwvsJ8BrKis",
      "include_colab_link": true
    },
    "kernelspec": {
      "name": "python3",
      "display_name": "Python 3"
    },
    "language_info": {
      "name": "python"
    }
  },
  "cells": [
    {
      "cell_type": "markdown",
      "metadata": {
        "id": "view-in-github",
        "colab_type": "text"
      },
      "source": [
        "<a href=\"https://colab.research.google.com/github/bijuthottathil/dataengineer/blob/main/DeltaTablePysparkMergeInCollab.ipynb\" target=\"_parent\"><img src=\"https://colab.research.google.com/assets/colab-badge.svg\" alt=\"Open In Colab\"/></a>"
      ]
    },
    {
      "cell_type": "code",
      "execution_count": null,
      "metadata": {
        "id": "wRVo5FfMu-7p"
      },
      "outputs": [],
      "source": [
        "!apt-get install openjdk-11-jdk-headless -qq > /dev/null\n",
        "!wget -q https://archive.apache.org/dist/spark/spark-3.0.0/spark-3.0.0-bin-hadoop3.2.tgz\n",
        "!tar xf spark-3.0.0-bin-hadoop3.2.tgz\n",
        "!pip -q install findspark\n"
      ]
    },
    {
      "cell_type": "code",
      "source": [
        "import os\n",
        "os.environ[\"JAVA_HOME\"] = \"/usr/lib/jvm/java-11-openjdk-amd64\"\n",
        "os.environ[\"SPARK_HOME\"] = \"/content/spark-3.0.0-bin-hadoop3.2\"\n",
        "os.environ['PYSPARK_SUBMIT_ARGS'] = '--packages io.delta:delta-core_2.12:0.7.0 --conf spark.sql.extensions=io.delta.sql.DeltaSparkSessionExtension --conf spark.sql.catalog.spark_catalog=org.apache.spark.sql.delta.catalog.DeltaCatalog pyspark-shell'\n",
        "import findspark\n",
        "findspark.init()\n",
        "from pyspark.sql import SparkSession\n",
        "from pyspark.sql.functions import *\n",
        "spark = SparkSession.builder.appName('delta_session').getOrCreate()\n",
        "from delta.tables import *"
      ],
      "metadata": {
        "id": "QP45NSYlvIAR"
      },
      "execution_count": null,
      "outputs": []
    },
    {
      "cell_type": "code",
      "source": [
        "source=spark.read.csv(\"/content/scd1source.csv\", header=True)"
      ],
      "metadata": {
        "id": "n2YPgvGkvcQM"
      },
      "execution_count": null,
      "outputs": []
    },
    {
      "cell_type": "code",
      "source": [
        "source.write.format(\"delta\").partitionBy(\"id\").mode(\"overwrite\").saveAsTable(\"source\")"
      ],
      "metadata": {
        "id": "z4URgDG6wzhJ"
      },
      "execution_count": null,
      "outputs": []
    },
    {
      "cell_type": "code",
      "source": [
        "deltasource= DeltaTable.forPath(spark,\"/content/spark-warehouse/source\")"
      ],
      "metadata": {
        "id": "PsuFZcpPw8va"
      },
      "execution_count": null,
      "outputs": []
    },
    {
      "cell_type": "code",
      "source": [
        "deltasource.toDF().show()"
      ],
      "metadata": {
        "colab": {
          "base_uri": "https://localhost:8080/"
        },
        "id": "7mkeThnaxFy0",
        "outputId": "aeb25311-ca8a-46ed-aafb-2732ed1f836b"
      },
      "execution_count": null,
      "outputs": [
        {
          "output_type": "stream",
          "name": "stdout",
          "text": [
            "+---+--------+---------+\n",
            "| id|    name| location|\n",
            "+---+--------+---------+\n",
            "|  3|Vikranth|Bangalore|\n",
            "|  2|Reswanth|Hyderabad|\n",
            "|  1|     Ram|  Chennai|\n",
            "+---+--------+---------+\n",
            "\n"
          ]
        }
      ]
    },
    {
      "cell_type": "code",
      "source": [
        "dest=spark.read.csv(\"/content/scd1dest.csv\", header=True)"
      ],
      "metadata": {
        "id": "1Ar-27P8zlaS"
      },
      "execution_count": null,
      "outputs": []
    },
    {
      "cell_type": "code",
      "source": [
        "dest.write.format(\"delta\").partitionBy(\"id\").mode(\"overwrite\").saveAsTable(\"dest\")"
      ],
      "metadata": {
        "id": "bXm-jVe_z86W"
      },
      "execution_count": null,
      "outputs": []
    },
    {
      "cell_type": "code",
      "source": [
        "deltadest= DeltaTable.forPath(spark,\"/content/spark-warehouse/dest\")"
      ],
      "metadata": {
        "id": "ULcbaBWQ0C5v"
      },
      "execution_count": null,
      "outputs": []
    },
    {
      "cell_type": "code",
      "source": [
        "dfdest=spark.sql(\"select * from dest\")\n",
        "dfdest.show()"
      ],
      "metadata": {
        "colab": {
          "base_uri": "https://localhost:8080/"
        },
        "id": "SrVnDnil0Iav",
        "outputId": "e5a2981d-f780-4c20-a80e-0dc632706cd7"
      },
      "execution_count": null,
      "outputs": [
        {
          "output_type": "stream",
          "name": "stdout",
          "text": [
            "+---+--------+---------+\n",
            "| id|    name| location|\n",
            "+---+--------+---------+\n",
            "|  2|Reswanth|Hyderabad|\n",
            "|  3|Vikranth|Bangalore|\n",
            "|  4|     Raj|Hyderabad|\n",
            "|  5|  Prasad|     Pune|\n",
            "|  1|     Ram|  Chennai|\n",
            "+---+--------+---------+\n",
            "\n"
          ]
        }
      ]
    },
    {
      "cell_type": "code",
      "source": [
        "mergesql=spark.sql(\"MERGE INTO dest  as t \" + \n",
        "\"USING source as  s on t.id=s.id \" +\n",
        "\"WHEN MATCHED THEN  UPDATE SET * WHEN NOT MATCHED THEN INSERT * \")\n",
        "mergesql.show()\n"
      ],
      "metadata": {
        "colab": {
          "base_uri": "https://localhost:8080/"
        },
        "id": "UTCz1sqlxb50",
        "outputId": "ee1795d8-57a7-4cef-96a5-d3d284d40a21"
      },
      "execution_count": null,
      "outputs": [
        {
          "output_type": "stream",
          "name": "stdout",
          "text": [
            "++\n",
            "||\n",
            "++\n",
            "++\n",
            "\n"
          ]
        }
      ]
    },
    {
      "cell_type": "code",
      "source": [],
      "metadata": {
        "id": "BBS55MzDxbwE"
      },
      "execution_count": null,
      "outputs": []
    }
  ]
}