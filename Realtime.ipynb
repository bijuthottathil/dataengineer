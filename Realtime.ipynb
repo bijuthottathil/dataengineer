{
  "nbformat": 4,
  "nbformat_minor": 0,
  "metadata": {
    "colab": {
      "provenance": [],
      "authorship_tag": "ABX9TyNJd6XI15t2xy3I6J+coNMl",
      "include_colab_link": true
    },
    "kernelspec": {
      "name": "python3",
      "display_name": "Python 3"
    },
    "language_info": {
      "name": "python"
    }
  },
  "cells": [
    {
      "cell_type": "markdown",
      "metadata": {
        "id": "view-in-github",
        "colab_type": "text"
      },
      "source": [
        "<a href=\"https://colab.research.google.com/github/bijuthottathil/dataengineer/blob/main/Realtime.ipynb\" target=\"_parent\"><img src=\"https://colab.research.google.com/assets/colab-badge.svg\" alt=\"Open In Colab\"/></a>"
      ]
    },
    {
      "cell_type": "code",
      "execution_count": null,
      "metadata": {
        "id": "SV39fZnVnrIl"
      },
      "outputs": [],
      "source": [
        "!apt-get install openjdk-11-jdk-headless -qq > /dev/null\n",
        "!wget -q https://archive.apache.org/dist/spark/spark-3.0.0/spark-3.0.0-bin-hadoop3.2.tgz\n",
        "!tar xf spark-3.0.0-bin-hadoop3.2.tgz\n",
        "!pip -q install findspark\n"
      ]
    },
    {
      "cell_type": "code",
      "source": [
        "import os\n",
        "os.environ[\"JAVA_HOME\"] = \"/usr/lib/jvm/java-11-openjdk-amd64\"\n",
        "os.environ[\"SPARK_HOME\"] = \"/content/spark-3.0.0-bin-hadoop3.2\"\n",
        "os.environ['PYSPARK_SUBMIT_ARGS'] = '--packages io.delta:delta-core_2.12:0.7.0 --conf spark.sql.extensions=io.delta.sql.DeltaSparkSessionExtension --conf spark.sql.catalog.spark_catalog=org.apache.spark.sql.delta.catalog.DeltaCatalog pyspark-shell'\n",
        "import findspark\n",
        "findspark.init()\n",
        "from pyspark.sql import SparkSession\n",
        "from pyspark.sql.functions import *\n",
        "spark=SparkSession.builder.appName('Myapp').getOrCreate()"
      ],
      "metadata": {
        "id": "1IQZUgSrn0zo"
      },
      "execution_count": null,
      "outputs": []
    },
    {
      "cell_type": "code",
      "source": [
        "data=spark.read.csv(\"/content/emp-pyspark.csv\",inferSchema=True,header=True)"
      ],
      "metadata": {
        "id": "ivPK8131oFi6"
      },
      "execution_count": null,
      "outputs": []
    },
    {
      "cell_type": "code",
      "source": [
        "data.show()"
      ],
      "metadata": {
        "colab": {
          "base_uri": "https://localhost:8080/"
        },
        "id": "XeWeI2S0rpSc",
        "outputId": "a03dfba8-a8de-4774-c101-8c76e7be3b09"
      },
      "execution_count": null,
      "outputs": [
        {
          "output_type": "stream",
          "name": "stdout",
          "text": [
            "+-----+------+---------+----+----------+----+----+------+------------+\n",
            "|EMPNO| ENAME|      JOB| MGR|  HIREDATE| SAL|COMM|DEPTNO|UPDATED_DATE|\n",
            "+-----+------+---------+----+----------+----+----+------+------------+\n",
            "| 7369| SMITH|    CLERK|7902|17-12-1980| 800|null|    20|  2022-01-01|\n",
            "| 7499| ALLEN| SALESMAN|7698|20-02-1981|1600| 300|    30|  2022-01-01|\n",
            "| 7521|  WARD| SALESMAN|7698|22-02-1981|1250| 500|    30|  2022-01-01|\n",
            "| 7566| JONES|  MANAGER|7839|04-02-1981|2975|null|    20|  2022-01-05|\n",
            "| 7654|MARTIN| SALESMAN|7698|21-09-1981|1250|1400|    30|  2022-01-03|\n",
            "| 7698|   SGR|  MANAGER|7839|05-01-1981|2850|null|    30|  2022-01-04|\n",
            "| 7782|  RAVI|  MANAGER|7839|06-09-1981|2450|null|    10|  2022-01-02|\n",
            "| 7788| SCOTT|  ANALYST|7566|19-04-1987|3000|null|    20|  2022-01-02|\n",
            "| 7839|  KING|PRESIDENT|null|01-11-1981|5000|null|    10|  2022-01-02|\n",
            "| 7844|TURNER| SALESMAN|7698|09-08-1981|1500|   0|    30|  2022-01-02|\n",
            "| 7876| ADAMS|    CLERK|7788|23-05-1987|1100|null|    20|  2022-01-03|\n",
            "| 7900| JAMES|    CLERK|7698|12-03-1981| 950|null|    30|  2022-01-03|\n",
            "| 7902|  FORD|  ANALYST|7566|12-03-1981|3000|null|    20|  2022-01-03|\n",
            "| 7934|MILLER|    CLERK|7782|01-03-1982|1300|null|    10|  2022-01-03|\n",
            "| 1234|SEKHAR|   doctor|7777|      null| 667|  78|    80|  2022-01-03|\n",
            "| 7369| SMITH|    CLERK|7902|17-12-1980| 800|null|    20|  2022-01-04|\n",
            "| 7499| ALLEN| SALESMAN|7698|20-02-1981|1600| 300|    30|  2022-01-04|\n",
            "| 7521|  WARD| SALESMAN|7698|22-02-1981|1250| 500|    30|  2022-01-04|\n",
            "| 7566| JONES|  MANAGER|7839|04-02-1981|2975|null|    20|  2022-01-04|\n",
            "| 7654|MARTIN| SALESMAN|7698|21-09-1981|1250|1400|    30|  2022-01-05|\n",
            "+-----+------+---------+----+----------+----+----+------+------------+\n",
            "only showing top 20 rows\n",
            "\n"
          ]
        }
      ]
    },
    {
      "cell_type": "code",
      "source": [
        "# How to create partition by month and year in pyspark\n",
        "from pyspark.sql.functions import *\n",
        "emp_csv=data.withColumn(\"HIREDATE\",to_date(\"HIREDATE\",'dd-MM-yyyy')).fillna({\"HireDate\":\"9999-12-31\"})\n",
        "emp_csv=emp_csv.withColumn(\"Month\",month(\"HIREDATE\")).withColumn(\"Year\",year(\"HIREDATE\"))"
      ],
      "metadata": {
        "id": "ty6AMaJ8rvv5"
      },
      "execution_count": null,
      "outputs": []
    },
    {
      "cell_type": "code",
      "source": [
        "from delta.tables import *\n",
        "emp_csv.write.format(\"delta\").partitionBy(\"Year\",\"Month\").mode(\"overwrite\").saveAsTable(\"emp_csvnew1\")"
      ],
      "metadata": {
        "id": "uubVo6CR0aoV"
      },
      "execution_count": null,
      "outputs": []
    },
    {
      "cell_type": "code",
      "source": [
        "deltainstance=DeltaTable.forPath(spark,\"/content/spark-warehouse/emp_csvnew1/Year=1980\")\n",
        "deltainstance.toDF().show()"
      ],
      "metadata": {
        "colab": {
          "base_uri": "https://localhost:8080/"
        },
        "id": "jYgU_TwK7M9D",
        "outputId": "f251010e-8510-43de-b3ce-586078644a21"
      },
      "execution_count": null,
      "outputs": [
        {
          "output_type": "stream",
          "name": "stdout",
          "text": [
            "+-----+-----+-----+----+----------+---+----+------+------------+-----+----+\n",
            "|EMPNO|ENAME|  JOB| MGR|  HIREDATE|SAL|COMM|DEPTNO|UPDATED_DATE|Month|Year|\n",
            "+-----+-----+-----+----+----------+---+----+------+------------+-----+----+\n",
            "| 7369|SMITH|CLERK|7902|1980-12-17|800|null|    20|  2022-01-01|   12|1980|\n",
            "| 7369|SMITH|CLERK|7902|1980-12-17|800|null|    20|  2022-01-04|   12|1980|\n",
            "+-----+-----+-----+----+----------+---+----+------+------------+-----+----+\n",
            "\n"
          ]
        }
      ]
    }
  ]
}