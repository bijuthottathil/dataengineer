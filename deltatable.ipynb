{
  "nbformat": 4,
  "nbformat_minor": 0,
  "metadata": {
    "colab": {
      "provenance": [],
      "authorship_tag": "ABX9TyNdpp/mq0rhj4y+6cSMBw5o",
      "include_colab_link": true
    },
    "kernelspec": {
      "name": "python3",
      "display_name": "Python 3"
    },
    "language_info": {
      "name": "python"
    }
  },
  "cells": [
    {
      "cell_type": "markdown",
      "metadata": {
        "id": "view-in-github",
        "colab_type": "text"
      },
      "source": [
        "<a href=\"https://colab.research.google.com/github/bijuthottathil/dataengineer/blob/main/deltatable.ipynb\" target=\"_parent\"><img src=\"https://colab.research.google.com/assets/colab-badge.svg\" alt=\"Open In Colab\"/></a>"
      ]
    },
    {
      "cell_type": "code",
      "execution_count": null,
      "metadata": {
        "id": "vjmoBsdi-P2Z"
      },
      "outputs": [],
      "source": [
        "!apt-get install openjdk-11-jdk-headless -qq > /dev/null\n",
        "!wget -q https://archive.apache.org/dist/spark/spark-3.0.0/spark-3.0.0-bin-hadoop3.2.tgz\n",
        "!tar xf spark-3.0.0-bin-hadoop3.2.tgz\n",
        "!pip -q install findspark\n",
        "\n"
      ]
    },
    {
      "cell_type": "code",
      "source": [
        "import os\n",
        "os.environ[\"JAVA_HOME\"] = \"/usr/lib/jvm/java-11-openjdk-amd64\"\n",
        "os.environ[\"SPARK_HOME\"] = \"/content/spark-3.0.0-bin-hadoop3.2\"\n",
        "os.environ['PYSPARK_SUBMIT_ARGS'] = '--packages io.delta:delta-core_2.12:0.7.0 --conf spark.sql.extensions=io.delta.sql.DeltaSparkSessionExtension --conf spark.sql.catalog.spark_catalog=org.apache.spark.sql.delta.catalog.DeltaCatalog pyspark-shell'\n",
        "import findspark\n",
        "findspark.init()\n",
        "from pyspark.sql import SparkSession\n",
        "from pyspark.sql.functions import *\n",
        "spark = SparkSession.builder.appName('delta_session').getOrCreate()\n",
        "from delta.tables import *"
      ],
      "metadata": {
        "id": "QUj7DYhU-Xf4"
      },
      "execution_count": null,
      "outputs": []
    },
    {
      "cell_type": "code",
      "source": [
        "\n",
        "empdf=spark.read.csv(\"/content/sample_data/emp.csv\", header=True)\n",
        "\n"
      ],
      "metadata": {
        "id": "DF46NjqT-iZP"
      },
      "execution_count": null,
      "outputs": []
    },
    {
      "cell_type": "code",
      "source": [
        "\n",
        "empdf.write.format(\"delta\").partitionBy(\"HIREDATE\").mode(\"overwrite\").saveAsTable(\"emp_part\")"
      ],
      "metadata": {
        "id": "2Iq3YuHCAKCd"
      },
      "execution_count": null,
      "outputs": []
    },
    {
      "cell_type": "code",
      "source": [
        "spark.sql(\"select * from emp_part\")"
      ],
      "metadata": {
        "colab": {
          "base_uri": "https://localhost:8080/"
        },
        "id": "qJ9pW_Q5BJsf",
        "outputId": "6ea31ea5-b389-4478-e453-0661e0663dc5"
      },
      "execution_count": null,
      "outputs": [
        {
          "output_type": "execute_result",
          "data": {
            "text/plain": [
              "DataFrame[EMPNO: string, ENAME: string, JOB: string, MGR: string, HIREDATE: string, SAL: string, COMM: string, DEPTNO: string, UPDATED_DATE: string]"
            ]
          },
          "metadata": {},
          "execution_count": 10
        }
      ]
    },
    {
      "cell_type": "code",
      "source": [
        "deltainstance= DeltaTable.forPath(spark,\"/content/spark-warehouse/emp_part\")"
      ],
      "metadata": {
        "id": "HDjPr3ZHDENy"
      },
      "execution_count": null,
      "outputs": []
    },
    {
      "cell_type": "code",
      "source": [
        "deltainstance.toDF().show()"
      ],
      "metadata": {
        "colab": {
          "base_uri": "https://localhost:8080/"
        },
        "id": "ku9NKa0CET2N",
        "outputId": "bcc47187-63e1-4ff8-95bb-b66195fcf1b0"
      },
      "execution_count": null,
      "outputs": [
        {
          "output_type": "stream",
          "name": "stdout",
          "text": [
            "+-----+------+--------+----+----------+----+----+------+------------+\n",
            "|EMPNO| ENAME|     JOB| MGR|  HIREDATE| SAL|COMM|DEPTNO|UPDATED_DATE|\n",
            "+-----+------+--------+----+----------+----+----+------+------------+\n",
            "| 7654|MARTIN|SALESMAN|7698|21-09-1981|1250|1400|    30|  2022-01-03|\n",
            "| 7566| JONES| MANAGER|7839|04-02-1981|2975|null|    20|  2022-01-05|\n",
            "| 7499| ALLEN|SALESMAN|7698|20-02-1981|1600| 300|    30|  2022-01-01|\n",
            "| 7782|  RAVI| MANAGER|7839|06-09-1981|2450|null|    10|  2022-01-02|\n",
            "| 7521|  WARD|SALESMAN|7698|22-02-1981|1250| 500|    30|  2022-01-01|\n",
            "| 7698|   SGR| MANAGER|7839|05-01-1981|2850|null|    30|  2022-01-04|\n",
            "| 7369| SMITH|   CLERK|7902|17-12-1980| 800|null|    20|  2022-01-01|\n",
            "+-----+------+--------+----+----------+----+----+------+------------+\n",
            "\n"
          ]
        }
      ]
    },
    {
      "cell_type": "code",
      "source": [
        "deltainstance.delete(\"EMPNO=7369\")"
      ],
      "metadata": {
        "id": "07yrbWtfFyOI"
      },
      "execution_count": null,
      "outputs": []
    },
    {
      "cell_type": "code",
      "source": [
        "deltainstance.toDF().show()"
      ],
      "metadata": {
        "colab": {
          "base_uri": "https://localhost:8080/"
        },
        "id": "imDuV3TnGTGh",
        "outputId": "bdeb019e-f8d2-4241-edc7-c56c2899c210"
      },
      "execution_count": null,
      "outputs": [
        {
          "output_type": "stream",
          "name": "stdout",
          "text": [
            "+-----+------+--------+----+----------+----+----+------+------------+\n",
            "|EMPNO| ENAME|     JOB| MGR|  HIREDATE| SAL|COMM|DEPTNO|UPDATED_DATE|\n",
            "+-----+------+--------+----+----------+----+----+------+------------+\n",
            "| 7654|MARTIN|SALESMAN|7698|21-09-1981|1250|1400|    30|  2022-01-03|\n",
            "| 7566| JONES| MANAGER|7839|04-02-1981|2975|null|    20|  2022-01-05|\n",
            "| 7499| ALLEN|SALESMAN|7698|20-02-1981|1600| 300|    30|  2022-01-01|\n",
            "| 7782|  RAVI| MANAGER|7839|06-09-1981|2450|null|    10|  2022-01-02|\n",
            "| 7521|  WARD|SALESMAN|7698|22-02-1981|1250| 500|    30|  2022-01-01|\n",
            "| 7698|   SGR| MANAGER|7839|05-01-1981|2850|null|    30|  2022-01-04|\n",
            "+-----+------+--------+----+----------+----+----+------+------------+\n",
            "\n"
          ]
        }
      ]
    },
    {
      "cell_type": "code",
      "source": [],
      "metadata": {
        "id": "BFPFkD7kFf3Y"
      },
      "execution_count": null,
      "outputs": []
    },
    {
      "cell_type": "code",
      "source": [
        "df=spark.sql(\"select * from emp_part\")\n",
        "df.show()\n",
        "df.printSchema()"
      ],
      "metadata": {
        "colab": {
          "base_uri": "https://localhost:8080/"
        },
        "id": "aflcEfnqGorT",
        "outputId": "6c13b447-0765-420f-b8df-478cd4cba3da"
      },
      "execution_count": null,
      "outputs": [
        {
          "output_type": "stream",
          "name": "stdout",
          "text": [
            "+-----+------+--------+----+----------+----+----+------+------------+\n",
            "|EMPNO| ENAME|     JOB| MGR|  HIREDATE| SAL|COMM|DEPTNO|UPDATED_DATE|\n",
            "+-----+------+--------+----+----------+----+----+------+------------+\n",
            "| 7654|MARTIN|SALESMAN|7698|21-09-1981|1250|1400|    30|  2022-01-03|\n",
            "| 7566| JONES| MANAGER|7839|04-02-1981|2975|null|    20|  2022-01-05|\n",
            "| 7499| ALLEN|SALESMAN|7698|20-02-1981|1600| 300|    30|  2022-01-01|\n",
            "| 7782|  RAVI| MANAGER|7839|06-09-1981|2450|null|    10|  2022-01-02|\n",
            "| 7521|  WARD|SALESMAN|7698|22-02-1981|1250| 500|    30|  2022-01-01|\n",
            "| 7698|   SGR| MANAGER|7839|05-01-1981|2850|null|    30|  2022-01-04|\n",
            "+-----+------+--------+----+----------+----+----+------+------------+\n",
            "\n",
            "root\n",
            " |-- EMPNO: string (nullable = true)\n",
            " |-- ENAME: string (nullable = true)\n",
            " |-- JOB: string (nullable = true)\n",
            " |-- MGR: string (nullable = true)\n",
            " |-- HIREDATE: string (nullable = true)\n",
            " |-- SAL: string (nullable = true)\n",
            " |-- COMM: string (nullable = true)\n",
            " |-- DEPTNO: string (nullable = true)\n",
            " |-- UPDATED_DATE: string (nullable = true)\n",
            "\n"
          ]
        }
      ]
    },
    {
      "cell_type": "markdown",
      "source": [
        "# New Section"
      ],
      "metadata": {
        "id": "QhLJcJcM_fUp"
      }
    },
    {
      "cell_type": "code",
      "source": [
        "df=spark.sql(\"insert into emp_part values ('333','rock','SALESMAN','7839','2-09-1981','3450','8888','66','2023-01-01')\")\n",
        "df.show()"
      ],
      "metadata": {
        "colab": {
          "base_uri": "https://localhost:8080/"
        },
        "id": "jU81eBsHLke5",
        "outputId": "997797e9-bf34-44ec-dd74-a5e3e1f5ffe4"
      },
      "execution_count": null,
      "outputs": [
        {
          "output_type": "stream",
          "name": "stdout",
          "text": [
            "++\n",
            "||\n",
            "++\n",
            "++\n",
            "\n"
          ]
        }
      ]
    },
    {
      "cell_type": "code",
      "source": [
        "df=spark.sql(\"select * from emp_part\")\n",
        "df.show()"
      ],
      "metadata": {
        "colab": {
          "base_uri": "https://localhost:8080/"
        },
        "id": "IL_XUtrjNMOm",
        "outputId": "da5e528d-0441-4013-c2ff-841680362d5e"
      },
      "execution_count": null,
      "outputs": [
        {
          "output_type": "stream",
          "name": "stdout",
          "text": [
            "+-----+------+--------+----+----------+----+----+------+------------+\n",
            "|EMPNO| ENAME|     JOB| MGR|  HIREDATE| SAL|COMM|DEPTNO|UPDATED_DATE|\n",
            "+-----+------+--------+----+----------+----+----+------+------------+\n",
            "| 7654|MARTIN|SALESMAN|7698|21-09-1981|1250|1400|    30|  2022-01-03|\n",
            "| 7566| JONES| MANAGER|7839|04-02-1981|2975|null|    20|  2022-01-05|\n",
            "| 7499| ALLEN|SALESMAN|7698|20-02-1981|1600| 300|    30|  2022-01-01|\n",
            "| 7782|  RAVI| MANAGER|7839|06-09-1981|2450|null|    10|  2022-01-02|\n",
            "| 7521|  WARD|SALESMAN|7698|22-02-1981|1250| 500|    30|  2022-01-01|\n",
            "|  333|  rock|SALESMAN|7839| 2-09-1981|3450|8888|    66|  2023-01-01|\n",
            "|  333|  rock|SALESMAN|7839| 2-09-1981|3450|8888|    66|  2023-01-01|\n",
            "|  333|  rock|SALESMAN|7839| 2-09-1981|3450|8888|    66|  2023-01-01|\n",
            "| 7698|   SGR| MANAGER|7839|05-01-1981|2850|null|    30|  2022-01-04|\n",
            "+-----+------+--------+----+----------+----+----+------+------------+\n",
            "\n"
          ]
        }
      ]
    },
    {
      "cell_type": "code",
      "source": [
        "df.write.format(\"delta\").mode(\"append\").saveAsTable(\"employeeappended\")"
      ],
      "metadata": {
        "id": "1H_FJs6TNj21"
      },
      "execution_count": null,
      "outputs": []
    },
    {
      "cell_type": "code",
      "source": [
        "dfnew=spark.sql(\"select * from employeeappended\")\n",
        "dfnew.show()"
      ],
      "metadata": {
        "colab": {
          "base_uri": "https://localhost:8080/"
        },
        "id": "P_1CcQsHNWGg",
        "outputId": "13c9a46f-505f-4f2d-eed8-eeef3b8c83f0"
      },
      "execution_count": null,
      "outputs": [
        {
          "output_type": "stream",
          "name": "stdout",
          "text": [
            "+-----+------+--------+----+----------+----+----+------+------------+\n",
            "|EMPNO| ENAME|     JOB| MGR|  HIREDATE| SAL|COMM|DEPTNO|UPDATED_DATE|\n",
            "+-----+------+--------+----+----------+----+----+------+------------+\n",
            "| 7654|MARTIN|SALESMAN|7698|21-09-1981|1250|1400|    30|  2022-01-03|\n",
            "| 7566| JONES| MANAGER|7839|04-02-1981|2975|null|    20|  2022-01-05|\n",
            "| 7499| ALLEN|SALESMAN|7698|20-02-1981|1600| 300|    30|  2022-01-01|\n",
            "| 7782|  RAVI| MANAGER|7839|06-09-1981|2450|null|    10|  2022-01-02|\n",
            "| 7521|  WARD|SALESMAN|7698|22-02-1981|1250| 500|    30|  2022-01-01|\n",
            "|  333|  rock|SALESMAN|7839| 2-09-1981|3450|8888|    66|  2023-01-01|\n",
            "|  333|  rock|SALESMAN|7839| 2-09-1981|3450|8888|    66|  2023-01-01|\n",
            "|  333|  rock|SALESMAN|7839| 2-09-1981|3450|8888|    66|  2023-01-01|\n",
            "| 7698|   SGR| MANAGER|7839|05-01-1981|2850|null|    30|  2022-01-04|\n",
            "+-----+------+--------+----+----------+----+----+------+------------+\n",
            "\n"
          ]
        }
      ]
    },
    {
      "cell_type": "code",
      "source": [
        "rt_cl= spark.read.format(\"delta\").load(\"/content/spark-warehouse/emp_part/HIREDATE=04-02-1981/\")\n",
        "rt_cl.show()"
      ],
      "metadata": {
        "colab": {
          "base_uri": "https://localhost:8080/"
        },
        "id": "NHGoFCReSKPd",
        "outputId": "e0ca93cb-708b-4de5-bbc7-2ff4e872727d"
      },
      "execution_count": null,
      "outputs": [
        {
          "output_type": "stream",
          "name": "stdout",
          "text": [
            "+-----+-----+-------+----+----------+----+----+------+------------+\n",
            "|EMPNO|ENAME|    JOB| MGR|  HIREDATE| SAL|COMM|DEPTNO|UPDATED_DATE|\n",
            "+-----+-----+-------+----+----------+----+----+------+------------+\n",
            "| 7566|JONES|MANAGER|7839|04-02-1981|2975|null|    20|  2022-01-05|\n",
            "+-----+-----+-------+----+----------+----+----+------+------------+\n",
            "\n"
          ]
        }
      ]
    }
  ]
}