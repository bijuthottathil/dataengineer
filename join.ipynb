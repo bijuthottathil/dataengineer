{
  "nbformat": 4,
  "nbformat_minor": 0,
  "metadata": {
    "colab": {
      "provenance": [],
      "authorship_tag": "ABX9TyNjMHHbiUrjcM6JRuZh5Vl3",
      "include_colab_link": true
    },
    "kernelspec": {
      "name": "python3",
      "display_name": "Python 3"
    },
    "language_info": {
      "name": "python"
    }
  },
  "cells": [
    {
      "cell_type": "markdown",
      "metadata": {
        "id": "view-in-github",
        "colab_type": "text"
      },
      "source": [
        "<a href=\"https://colab.research.google.com/github/bijuthottathil/dataengineer/blob/main/join.ipynb\" target=\"_parent\"><img src=\"https://colab.research.google.com/assets/colab-badge.svg\" alt=\"Open In Colab\"/></a>"
      ]
    },
    {
      "cell_type": "code",
      "execution_count": 1,
      "metadata": {
        "id": "wwdCtgJWvCmw"
      },
      "outputs": [],
      "source": [
        "!apt-get install openjdk-11-jdk-headless -qq > /dev/null\n",
        "!wget -q https://archive.apache.org/dist/spark/spark-3.0.0/spark-3.0.0-bin-hadoop3.2.tgz\n",
        "!tar xf spark-3.0.0-bin-hadoop3.2.tgz\n",
        "!pip -q install findspark\n",
        "import os\n",
        "os.environ[\"JAVA_HOME\"] = \"/usr/lib/jvm/java-11-openjdk-amd64\"\n",
        "os.environ[\"SPARK_HOME\"] = \"/content/spark-3.0.0-bin-hadoop3.2\"\n",
        "os.environ['PYSPARK_SUBMIT_ARGS'] = '--packages io.delta:delta-core_2.12:0.7.0 --conf spark.sql.extensions=io.delta.sql.DeltaSparkSessionExtension --conf spark.sql.catalog.spark_catalog=org.apache.spark.sql.delta.catalog.DeltaCatalog pyspark-shell'\n",
        "import findspark\n",
        "findspark.init()\n",
        "from pyspark.sql import SparkSession\n",
        "from pyspark.sql.functions import *\n",
        "spark = SparkSession.builder.appName('delta_session').getOrCreate()\n",
        "from delta.tables import *"
      ]
    },
    {
      "cell_type": "code",
      "source": [
        "deptdf=spark.read.csv(\"/content/Dept.csv\", header=True)\n",
        "empdf=spark.read.csv(\"/content/EMP.csv\", header=True)\n",
        "deptdf.show()\n",
        "empdf.show()"
      ],
      "metadata": {
        "colab": {
          "base_uri": "https://localhost:8080/"
        },
        "id": "1H22Fbc0vJ8f",
        "outputId": "e0fdee0a-cc03-4954-f60c-48449ba31c89"
      },
      "execution_count": 5,
      "outputs": [
        {
          "output_type": "stream",
          "name": "stdout",
          "text": [
            "+------+----------+--------+\n",
            "|Deptno|     Dname|     Loc|\n",
            "+------+----------+--------+\n",
            "|    10|ACCOUNTING|NEW YORK|\n",
            "|    20|  RESEARCH|  DALLAS|\n",
            "|    30|     SALES| CHICAGO|\n",
            "|    40|OPERATIONS|  BOSTON|\n",
            "+------+----------+--------+\n",
            "\n",
            "+-----+------+---------+----+--------+----+----+------+\n",
            "|EMPNO| ENAME|      JOB| MGR|HIREDATE| SAL|COMM|DEPTNO|\n",
            "+-----+------+---------+----+--------+----+----+------+\n",
            "| 7369| SMITH|    CLERK|7902|17-12-80| 800|null|    20|\n",
            "| 7499| ALLEN| SALESMAN|7698|20-02-81|1600| 300|    30|\n",
            "| 7521|  WARD| SALESMAN|7698|22-02-81|1250| 500|    30|\n",
            "| 7566| JONES|  MANAGER|7839|02-04-81|2975|null|    20|\n",
            "| 7654|MARTIN| SALESMAN|7698|28-09-81|1250|1400|    30|\n",
            "| 7698|   SGR|  MANAGER|7839|01-05-81|2850|null|    30|\n",
            "| 7782|  RAVI|  MANAGER|7839|09-06-81|2450|null|    10|\n",
            "| 7788| SCOTT|  ANALYST|7566|19-04-87|3000|null|    20|\n",
            "| 7839|  KING|PRESIDENT|null|17-11-81|5000|null|    10|\n",
            "| 7844|TURNER| SALESMAN|7698|08-09-81|1500|   0|    30|\n",
            "| 7876| ADAMS|    CLERK|7788|23-05-87|1100|null|    20|\n",
            "| 7900| JAMES|    CLERK|7698|03-12-81| 950|null|    30|\n",
            "| 7902|  FORD|  ANALYST|7566|03-12-81|3000|null|    20|\n",
            "| 7934|MILLER|    CLERK|7782|23-01-82|1300|null|    10|\n",
            "| 1234|SEKHAR|   doctor|7777|    null| 667|  78|    80|\n",
            "+-----+------+---------+----+--------+----+----+------+\n",
            "\n"
          ]
        }
      ]
    },
    {
      "cell_type": "code",
      "source": [
        "#inner Join -perform a join by implicitly matching the columns between the two datasets with the same name\n",
        "empdf.join(deptdf,empdf['Deptno']==deptdf['Deptno'],'inner').show()"
      ],
      "metadata": {
        "colab": {
          "base_uri": "https://localhost:8080/"
        },
        "id": "YW_sklfswf4M",
        "outputId": "cb58709c-1528-49f8-ab19-7a310ed76de5"
      },
      "execution_count": 12,
      "outputs": [
        {
          "output_type": "stream",
          "name": "stdout",
          "text": [
            "+-----+------+---------+----+--------+----+----+------+------+----------+--------+\n",
            "|EMPNO| ENAME|      JOB| MGR|HIREDATE| SAL|COMM|DEPTNO|Deptno|     Dname|     Loc|\n",
            "+-----+------+---------+----+--------+----+----+------+------+----------+--------+\n",
            "| 7369| SMITH|    CLERK|7902|17-12-80| 800|null|    20|    20|  RESEARCH|  DALLAS|\n",
            "| 7499| ALLEN| SALESMAN|7698|20-02-81|1600| 300|    30|    30|     SALES| CHICAGO|\n",
            "| 7521|  WARD| SALESMAN|7698|22-02-81|1250| 500|    30|    30|     SALES| CHICAGO|\n",
            "| 7566| JONES|  MANAGER|7839|02-04-81|2975|null|    20|    20|  RESEARCH|  DALLAS|\n",
            "| 7654|MARTIN| SALESMAN|7698|28-09-81|1250|1400|    30|    30|     SALES| CHICAGO|\n",
            "| 7698|   SGR|  MANAGER|7839|01-05-81|2850|null|    30|    30|     SALES| CHICAGO|\n",
            "| 7782|  RAVI|  MANAGER|7839|09-06-81|2450|null|    10|    10|ACCOUNTING|NEW YORK|\n",
            "| 7788| SCOTT|  ANALYST|7566|19-04-87|3000|null|    20|    20|  RESEARCH|  DALLAS|\n",
            "| 7839|  KING|PRESIDENT|null|17-11-81|5000|null|    10|    10|ACCOUNTING|NEW YORK|\n",
            "| 7844|TURNER| SALESMAN|7698|08-09-81|1500|   0|    30|    30|     SALES| CHICAGO|\n",
            "| 7876| ADAMS|    CLERK|7788|23-05-87|1100|null|    20|    20|  RESEARCH|  DALLAS|\n",
            "| 7900| JAMES|    CLERK|7698|03-12-81| 950|null|    30|    30|     SALES| CHICAGO|\n",
            "| 7902|  FORD|  ANALYST|7566|03-12-81|3000|null|    20|    20|  RESEARCH|  DALLAS|\n",
            "| 7934|MILLER|    CLERK|7782|23-01-82|1300|null|    10|    10|ACCOUNTING|NEW YORK|\n",
            "+-----+------+---------+----+--------+----+----+------+------+----------+--------+\n",
            "\n"
          ]
        }
      ]
    },
    {
      "cell_type": "code",
      "source": [
        "#Left Outer Joins  -Left outer joins evaluate the keys in both of the DataFrames or tables and includes all rows from the left DataFrame as well as any rows in the right DataFrame that have a match in the left DataFrame."
      ],
      "metadata": {
        "id": "rPR54ohwxkE4"
      },
      "execution_count": null,
      "outputs": []
    },
    {
      "cell_type": "code",
      "source": [
        "empdf.join(deptdf,empdf['Deptno']==deptdf['Deptno'],'left_outer').show()"
      ],
      "metadata": {
        "colab": {
          "base_uri": "https://localhost:8080/"
        },
        "id": "-0B3euo_xxQ5",
        "outputId": "e81c6590-13cf-48b7-e5a1-5ca010628afb"
      },
      "execution_count": 13,
      "outputs": [
        {
          "output_type": "stream",
          "name": "stdout",
          "text": [
            "+-----+------+---------+----+--------+----+----+------+------+----------+--------+\n",
            "|EMPNO| ENAME|      JOB| MGR|HIREDATE| SAL|COMM|DEPTNO|Deptno|     Dname|     Loc|\n",
            "+-----+------+---------+----+--------+----+----+------+------+----------+--------+\n",
            "| 7369| SMITH|    CLERK|7902|17-12-80| 800|null|    20|    20|  RESEARCH|  DALLAS|\n",
            "| 7499| ALLEN| SALESMAN|7698|20-02-81|1600| 300|    30|    30|     SALES| CHICAGO|\n",
            "| 7521|  WARD| SALESMAN|7698|22-02-81|1250| 500|    30|    30|     SALES| CHICAGO|\n",
            "| 7566| JONES|  MANAGER|7839|02-04-81|2975|null|    20|    20|  RESEARCH|  DALLAS|\n",
            "| 7654|MARTIN| SALESMAN|7698|28-09-81|1250|1400|    30|    30|     SALES| CHICAGO|\n",
            "| 7698|   SGR|  MANAGER|7839|01-05-81|2850|null|    30|    30|     SALES| CHICAGO|\n",
            "| 7782|  RAVI|  MANAGER|7839|09-06-81|2450|null|    10|    10|ACCOUNTING|NEW YORK|\n",
            "| 7788| SCOTT|  ANALYST|7566|19-04-87|3000|null|    20|    20|  RESEARCH|  DALLAS|\n",
            "| 7839|  KING|PRESIDENT|null|17-11-81|5000|null|    10|    10|ACCOUNTING|NEW YORK|\n",
            "| 7844|TURNER| SALESMAN|7698|08-09-81|1500|   0|    30|    30|     SALES| CHICAGO|\n",
            "| 7876| ADAMS|    CLERK|7788|23-05-87|1100|null|    20|    20|  RESEARCH|  DALLAS|\n",
            "| 7900| JAMES|    CLERK|7698|03-12-81| 950|null|    30|    30|     SALES| CHICAGO|\n",
            "| 7902|  FORD|  ANALYST|7566|03-12-81|3000|null|    20|    20|  RESEARCH|  DALLAS|\n",
            "| 7934|MILLER|    CLERK|7782|23-01-82|1300|null|    10|    10|ACCOUNTING|NEW YORK|\n",
            "| 1234|SEKHAR|   doctor|7777|    null| 667|  78|    80|  null|      null|    null|\n",
            "+-----+------+---------+----+--------+----+----+------+------+----------+--------+\n",
            "\n"
          ]
        }
      ]
    },
    {
      "cell_type": "code",
      "source": [
        "# Right outer join -Right outer joins evaluate the keys in both of the DataFrames or tables and includes all rows from the right DataFrame as well as any rows in the left DataFrame that have a match in the right DataFrame.\n",
        "empdf.join(deptdf,empdf['Deptno']==deptdf['Deptno'],'Right').show()"
      ],
      "metadata": {
        "colab": {
          "base_uri": "https://localhost:8080/"
        },
        "id": "GOUC0nZm0OQm",
        "outputId": "c072c46d-cd16-4a39-f73e-e9dba39edb1a"
      },
      "execution_count": 15,
      "outputs": [
        {
          "output_type": "stream",
          "name": "stdout",
          "text": [
            "+-----+------+---------+----+--------+----+----+------+------+----------+--------+\n",
            "|EMPNO| ENAME|      JOB| MGR|HIREDATE| SAL|COMM|DEPTNO|Deptno|     Dname|     Loc|\n",
            "+-----+------+---------+----+--------+----+----+------+------+----------+--------+\n",
            "| 7934|MILLER|    CLERK|7782|23-01-82|1300|null|    10|    10|ACCOUNTING|NEW YORK|\n",
            "| 7839|  KING|PRESIDENT|null|17-11-81|5000|null|    10|    10|ACCOUNTING|NEW YORK|\n",
            "| 7782|  RAVI|  MANAGER|7839|09-06-81|2450|null|    10|    10|ACCOUNTING|NEW YORK|\n",
            "| 7902|  FORD|  ANALYST|7566|03-12-81|3000|null|    20|    20|  RESEARCH|  DALLAS|\n",
            "| 7876| ADAMS|    CLERK|7788|23-05-87|1100|null|    20|    20|  RESEARCH|  DALLAS|\n",
            "| 7788| SCOTT|  ANALYST|7566|19-04-87|3000|null|    20|    20|  RESEARCH|  DALLAS|\n",
            "| 7566| JONES|  MANAGER|7839|02-04-81|2975|null|    20|    20|  RESEARCH|  DALLAS|\n",
            "| 7369| SMITH|    CLERK|7902|17-12-80| 800|null|    20|    20|  RESEARCH|  DALLAS|\n",
            "| 7900| JAMES|    CLERK|7698|03-12-81| 950|null|    30|    30|     SALES| CHICAGO|\n",
            "| 7844|TURNER| SALESMAN|7698|08-09-81|1500|   0|    30|    30|     SALES| CHICAGO|\n",
            "| 7698|   SGR|  MANAGER|7839|01-05-81|2850|null|    30|    30|     SALES| CHICAGO|\n",
            "| 7654|MARTIN| SALESMAN|7698|28-09-81|1250|1400|    30|    30|     SALES| CHICAGO|\n",
            "| 7521|  WARD| SALESMAN|7698|22-02-81|1250| 500|    30|    30|     SALES| CHICAGO|\n",
            "| 7499| ALLEN| SALESMAN|7698|20-02-81|1600| 300|    30|    30|     SALES| CHICAGO|\n",
            "| null|  null|     null|null|    null|null|null|  null|    40|OPERATIONS|  BOSTON|\n",
            "+-----+------+---------+----+--------+----+----+------+------+----------+--------+\n",
            "\n"
          ]
        }
      ]
    },
    {
      "cell_type": "code",
      "source": [
        "# Outer join - Outer joins evaluate the keys in both of the DataFrames or tables and includes (and joins together) the rows that evaluate to true or false. If there is no equivalent row in either the left or right DataFrame, Spark will insert null:\n",
        "empdf.join(deptdf,empdf['Deptno']==deptdf['Deptno'],'full_outer').show()"
      ],
      "metadata": {
        "colab": {
          "base_uri": "https://localhost:8080/"
        },
        "id": "Z5TiSmcI03U8",
        "outputId": "0d28bed6-3697-4406-b4af-f43a52d8c35b"
      },
      "execution_count": 16,
      "outputs": [
        {
          "output_type": "stream",
          "name": "stdout",
          "text": [
            "+-----+------+---------+----+--------+----+----+------+------+----------+--------+\n",
            "|EMPNO| ENAME|      JOB| MGR|HIREDATE| SAL|COMM|DEPTNO|Deptno|     Dname|     Loc|\n",
            "+-----+------+---------+----+--------+----+----+------+------+----------+--------+\n",
            "| 7499| ALLEN| SALESMAN|7698|20-02-81|1600| 300|    30|    30|     SALES| CHICAGO|\n",
            "| 7521|  WARD| SALESMAN|7698|22-02-81|1250| 500|    30|    30|     SALES| CHICAGO|\n",
            "| 7654|MARTIN| SALESMAN|7698|28-09-81|1250|1400|    30|    30|     SALES| CHICAGO|\n",
            "| 7698|   SGR|  MANAGER|7839|01-05-81|2850|null|    30|    30|     SALES| CHICAGO|\n",
            "| 7844|TURNER| SALESMAN|7698|08-09-81|1500|   0|    30|    30|     SALES| CHICAGO|\n",
            "| 7900| JAMES|    CLERK|7698|03-12-81| 950|null|    30|    30|     SALES| CHICAGO|\n",
            "| null|  null|     null|null|    null|null|null|  null|    40|OPERATIONS|  BOSTON|\n",
            "| 7369| SMITH|    CLERK|7902|17-12-80| 800|null|    20|    20|  RESEARCH|  DALLAS|\n",
            "| 7566| JONES|  MANAGER|7839|02-04-81|2975|null|    20|    20|  RESEARCH|  DALLAS|\n",
            "| 7788| SCOTT|  ANALYST|7566|19-04-87|3000|null|    20|    20|  RESEARCH|  DALLAS|\n",
            "| 7876| ADAMS|    CLERK|7788|23-05-87|1100|null|    20|    20|  RESEARCH|  DALLAS|\n",
            "| 7902|  FORD|  ANALYST|7566|03-12-81|3000|null|    20|    20|  RESEARCH|  DALLAS|\n",
            "| 7782|  RAVI|  MANAGER|7839|09-06-81|2450|null|    10|    10|ACCOUNTING|NEW YORK|\n",
            "| 7839|  KING|PRESIDENT|null|17-11-81|5000|null|    10|    10|ACCOUNTING|NEW YORK|\n",
            "| 7934|MILLER|    CLERK|7782|23-01-82|1300|null|    10|    10|ACCOUNTING|NEW YORK|\n",
            "| 1234|SEKHAR|   doctor|7777|    null| 667|  78|    80|  null|      null|    null|\n",
            "+-----+------+---------+----+--------+----+----+------+------+----------+--------+\n",
            "\n"
          ]
        }
      ]
    },
    {
      "cell_type": "code",
      "source": [],
      "metadata": {
        "id": "h5Mo7TaK098k"
      },
      "execution_count": null,
      "outputs": []
    }
  ]
}