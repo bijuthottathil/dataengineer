{
  "nbformat": 4,
  "nbformat_minor": 0,
  "metadata": {
    "colab": {
      "provenance": [],
      "toc_visible": true,
      "authorship_tag": "ABX9TyM1DOmyBo6LbICX4wtVq1Wi",
      "include_colab_link": true
    },
    "kernelspec": {
      "name": "python3",
      "display_name": "Python 3"
    },
    "language_info": {
      "name": "python"
    }
  },
  "cells": [
    {
      "cell_type": "markdown",
      "metadata": {
        "id": "view-in-github",
        "colab_type": "text"
      },
      "source": [
        "<a href=\"https://colab.research.google.com/github/bijuthottathil/dataengineer/blob/main/pyspark_json.ipynb\" target=\"_parent\"><img src=\"https://colab.research.google.com/assets/colab-badge.svg\" alt=\"Open In Colab\"/></a>"
      ]
    },
    {
      "cell_type": "code",
      "execution_count": 2,
      "metadata": {
        "id": "_xJ8E-y4TcHn"
      },
      "outputs": [],
      "source": [
        "!apt-get install openjdk-11-jdk-headless -qq > /dev/null\n",
        "!wget -q https://archive.apache.org/dist/spark/spark-3.0.0/spark-3.0.0-bin-hadoop3.2.tgz\n",
        "!tar xf spark-3.0.0-bin-hadoop3.2.tgz\n",
        "!pip -q install findspark\n"
      ]
    },
    {
      "cell_type": "code",
      "source": [
        "import os\n",
        "os.environ[\"JAVA_HOME\"] = \"/usr/lib/jvm/java-11-openjdk-amd64\"\n",
        "os.environ[\"SPARK_HOME\"] = \"/content/spark-3.0.0-bin-hadoop3.2\"\n",
        "os.environ['PYSPARK_SUBMIT_ARGS'] = '--packages io.delta:delta-core_2.12:0.7.0 --conf spark.sql.extensions=io.delta.sql.DeltaSparkSessionExtension --conf spark.sql.catalog.spark_catalog=org.apache.spark.sql.delta.catalog.DeltaCatalog pyspark-shell'\n",
        "import findspark\n",
        "findspark.init()\n",
        "from pyspark.sql import SparkSession\n",
        "from pyspark.sql.functions import *\n",
        "spark = SparkSession.builder.appName('delta_session').getOrCreate()"
      ],
      "metadata": {
        "id": "jR2CSLMlTkj8"
      },
      "execution_count": 3,
      "outputs": []
    },
    {
      "cell_type": "code",
      "source": [
        "from delta.tables  import *"
      ],
      "metadata": {
        "id": "t1kA0H1jTlwl"
      },
      "execution_count": 4,
      "outputs": []
    },
    {
      "cell_type": "code",
      "source": [
        "df_final= df_json.withColumn(\"toppingexplode\",explode(\"topping\"))\\\n",
        "                .withColumn(\"topping_id\",col(\"toppingexplode.id\"))\\\n",
        "                .withColumn(\"topping_type\",col(\"toppingexplode.type\"))\\\n",
        "                .drop(\"topping\",\"toppingexplode\")\\\n",
        "                .withColumn(\"batterexplode\",explode(\"batters.batter\"))\\\n",
        "                .withColumn(\"batter_type\",col(\"batterexplode.id\"))\\\n",
        "                .withColumn(\"batter_type\",col(\"batterexplode.type\"))\\\n",
        "                .drop(\"batter\",\"batterexplode\")\n",
        "\n",
        "df_final.show()"
      ],
      "metadata": {
        "id": "iBubkiZCqyhn"
      },
      "execution_count": null,
      "outputs": []
    },
    {
      "cell_type": "code",
      "source": [
        "from re import MULTILINE\n",
        "df=spark.read.format(\"json\").load(\"/content/Bijucost.json\",header=True,MULTILINE=True)"
      ],
      "metadata": {
        "id": "YjLHvfIWUPmh"
      },
      "execution_count": 24,
      "outputs": []
    },
    {
      "cell_type": "code",
      "source": [
        "df_final= df.withColumn(\"valueexplode\",explode(\"value\"))\\\n",
        "                .withColumn(\"kind\",col(\"valueexplode.kind\"))\\\n",
        "                .withColumn(\"id\",col(\"valueexplode.id\"))\\\n",
        "                .withColumn(\"Name\",col(\"valueexplode.name\"))\n",
        "df_final.show()"
      ],
      "metadata": {
        "colab": {
          "base_uri": "https://localhost:8080/"
        },
        "id": "I0c3BUzGUugE",
        "outputId": "a24babef-c38c-4149-f61b-64d358e0f5d6"
      },
      "execution_count": 28,
      "outputs": [
        {
          "output_type": "stream",
          "name": "stdout",
          "text": [
            "+--------------------+--------------------+---------+--------------------+--------------------+\n",
            "|               value|        valueexplode|     kind|                  id|                Name|\n",
            "+--------------------+--------------------+---------+--------------------+--------------------+\n",
            "|[[/subscriptions/...|[/subscriptions/2...|   modern|/subscriptions/22...|d95487ba-f4c9-ffc...|\n",
            "|[[/subscriptions/...|[/subscriptions/2...|notmodern|/subscriptions/22...|1148ce7a-dcf9-ed0...|\n",
            "|[[/subscriptions/...|[/subscriptions/2...|   modern|/subscriptions/22...|6457bb55-9e12-9e4...|\n",
            "|[[/subscriptions/...|[/subscriptions/2...|   modern|/subscriptions/22...|8a0a86dc-d2ce-9df...|\n",
            "|[[/subscriptions/...|[/subscriptions/2...|   modern|/subscriptions/22...|e3742e6d-c305-ac9...|\n",
            "|[[/subscriptions/...|[/subscriptions/2...|   modern|/subscriptions/22...|c4361910-21b8-88d...|\n",
            "|[[/subscriptions/...|[/subscriptions/2...|   modern|/subscriptions/22...|323c2c82-41e3-5d0...|\n",
            "|[[/subscriptions/...|[/subscriptions/2...|   modern|/subscriptions/22...|1fe8975f-c3ba-c1b...|\n",
            "|[[/subscriptions/...|[/subscriptions/2...|   modern|/subscriptions/22...|f003ce89-3cf4-35d...|\n",
            "+--------------------+--------------------+---------+--------------------+--------------------+\n",
            "\n"
          ]
        }
      ]
    },
    {
      "cell_type": "code",
      "source": [
        "df.write.format(\"delta\").partitionBy(\"HIREDATE\").mode(\"overwrite\").saveAsTable(\"empnewnew\")"
      ],
      "metadata": {
        "id": "cILj24z4U1LN"
      },
      "execution_count": null,
      "outputs": []
    },
    {
      "cell_type": "code",
      "source": [
        "from sys import set_coroutine_origin_tracking_depth\n",
        "from IPython.utils.path import target_outdated\n",
        "from delta.tables import *\n",
        "\n",
        "deltaTablePeople = DeltaTable.forPath(spark, '/content/spark-warehouse/empnew')\n",
        "deltaTablePeopleUpdates = DeltaTable.forPath(spark, '/content/spark-warehouse/empnewnew')\n",
        "\n",
        "dfUpdates = deltaTablePeopleUpdates.toDF()\n",
        "\n",
        "deltaTablePeople.alias('people') \\\n",
        "  merge into empnewnew as target_outdated\n",
        "  using source_view as source\n",
        "  on target.\n"
      ],
      "metadata": {
        "colab": {
          "base_uri": "https://localhost:8080/"
        },
        "id": "NL7IjxndUuSC",
        "outputId": "b7450071-5bae-4a9a-ce5c-40b84999824e"
      },
      "execution_count": null,
      "outputs": [
        {
          "output_type": "execute_result",
          "data": {
            "text/plain": [
              "<delta.tables.DeltaMergeBuilder at 0x7f5a235e4190>"
            ]
          },
          "metadata": {},
          "execution_count": 16
        }
      ]
    },
    {
      "cell_type": "code",
      "source": [],
      "metadata": {
        "id": "mC6uWDQLUMK8"
      },
      "execution_count": null,
      "outputs": []
    }
  ]
}